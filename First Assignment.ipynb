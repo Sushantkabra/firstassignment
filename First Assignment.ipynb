{
 "cells": [
  {
   "cell_type": "code",
   "execution_count": null,
   "id": "8020c7ec-ec76-42c4-be3a-7aec9a6ad0a2",
   "metadata": {},
   "outputs": [],
   "source": [
    "#QUESTION 1\n",
    "\n",
    "#Snake Case Naming: Use lowercase letters and underscores to separate words in variable names (snake_case). For example: user_name, item_count, total_amount.\n",
    "#Descriptive Names: Choose descriptive and meaningful names that convey the purpose of the variable. This makes the code more self-explanatory. For example, instead of x or temp, use names like customer_age or item_price.\n",
    "#Avoid Single-Letter Names: Generally, avoid using single-letter variable names except for very short-lived variables like loop counters. For example, use i for an index in a loop.\n",
    "#Use All Uppercase for Constants: If a variable is intended to be a constant (unchanging value), use all uppercase letters with underscores to separate words (UPPER_CASE_WITH_UNDERSCORES). For example: MAX_VALUE, PI, DEFAULT_TIMEOUT."
   ]
  },
  {
   "cell_type": "code",
   "execution_count": null,
   "id": "22c00a6f-d2aa-469e-803f-dd9345670e1f",
   "metadata": {},
   "outputs": [],
   "source": [
    "#QUESTION 2\n",
    "\n",
    "#Syntax Error: Python's parser will detect the use of a restricted keyword as a variable name during the compilation phase. This will result in a syntax error, preventing your code from running.\n",
    "#Invalid Identifier: Restricted keywords cannot be used as identifiers (variable names, function names, etc.) in Python. An identifier must follow the rules for valid variable names, which includes not using restricted keywords."
   ]
  },
  {
   "cell_type": "code",
   "execution_count": 1,
   "id": "f0312f54-2e27-4cb1-ae47-1a93ecaa63ab",
   "metadata": {},
   "outputs": [],
   "source": [
    "#QUESTION 3\n",
    "#In Python, you cannot declare a string as a variable name directly. "
   ]
  },
  {
   "cell_type": "code",
   "execution_count": 2,
   "id": "f6843967-c9bb-44e4-859b-da6bcca8b1bf",
   "metadata": {},
   "outputs": [
    {
     "name": "stdout",
     "output_type": "stream",
     "text": [
      "5\n"
     ]
    }
   ],
   "source": [
    "#QUESTION 4\n",
    "#Yes, it is possible to declare a variable with a single underscore (_) as its name in Python. The underscore has a special meaning in this context. It is often used as a \"throwaway\" variable name or as a placeholder for values that you don't intend to use.\n",
    "\n",
    "#Here's an example of using an underscore as a variable name:\n",
    "\n",
    "_ = 5\n",
    "\n",
    "print(_)"
   ]
  },
  {
   "cell_type": "code",
   "execution_count": 3,
   "id": "c6ed7ad6-6c3e-4cf9-9c7b-dbc55e0ba2af",
   "metadata": {},
   "outputs": [
    {
     "name": "stdout",
     "output_type": "stream",
     "text": [
      "Initial value of x: 5\n",
      "Updated value of x: Hello, world!\n"
     ]
    }
   ],
   "source": [
    "#QUESTION 5\n",
    "#In Python, variables are dynamic in nature, which means that their data types and values can change during the execution of the program. This dynamic behavior is a fundamental characteristic of Python and contributes to its flexibility and ease of use. Let's explore this concept with an example:\n",
    "\n",
    "# Declare a variable and assign an integer value\n",
    "x = 5\n",
    "\n",
    "print(\"Initial value of x:\", x)\n",
    "\n",
    "# Reassign a string value to the same variable\n",
    "x = \"Hello, world!\"\n",
    "\n",
    "print(\"Updated value of x:\", x)\n"
   ]
  },
  {
   "cell_type": "code",
   "execution_count": null,
   "id": "a9ed707c-7af8-45b8-b392-42f7c8b0f495",
   "metadata": {},
   "outputs": [],
   "source": []
  }
 ],
 "metadata": {
  "kernelspec": {
   "display_name": "Python 3 (ipykernel)",
   "language": "python",
   "name": "python3"
  },
  "language_info": {
   "codemirror_mode": {
    "name": "ipython",
    "version": 3
   },
   "file_extension": ".py",
   "mimetype": "text/x-python",
   "name": "python",
   "nbconvert_exporter": "python",
   "pygments_lexer": "ipython3",
   "version": "3.10.8"
  }
 },
 "nbformat": 4,
 "nbformat_minor": 5
}
